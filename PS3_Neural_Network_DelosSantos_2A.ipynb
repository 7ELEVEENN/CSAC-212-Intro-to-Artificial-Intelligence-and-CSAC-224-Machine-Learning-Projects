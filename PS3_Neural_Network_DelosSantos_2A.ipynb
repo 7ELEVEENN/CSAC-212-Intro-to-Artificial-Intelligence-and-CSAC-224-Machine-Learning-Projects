{
  "cells": [
    {
      "cell_type": "markdown",
      "metadata": {
        "id": "6KG4qAh-vN2Q"
      },
      "source": [
        " Import libraries and load the data into a dataframe"
      ]
    },
    {
      "cell_type": "code",
      "execution_count": null,
      "metadata": {
        "id": "0Ux6JoXUvVkj"
      },
      "outputs": [],
      "source": [
        "import tensorflow as tf\n",
        "from keras.models import Sequential\n",
        "import pandas as pd\n",
        "from keras.layers import Dense\n",
        "\n",
        "data = pd.read_csv('heart_failure_clinical_records_dataset.csv')"
      ]
    },
    {
      "cell_type": "markdown",
      "metadata": {
        "id": "YU6SaxHXvptu"
      },
      "source": [
        "Browse the data, listing maximum and minimum and average values and inspect the values in the dataframe like this:"
      ]
    },
    {
      "cell_type": "code",
      "execution_count": null,
      "metadata": {
        "colab": {
          "base_uri": "https://localhost:8080/"
        },
        "id": "a_4rMa_zvwLQ",
        "outputId": "d35b5dfc-13d7-46cd-9719-996e40e8d21a"
      },
      "outputs": [
        {
          "output_type": "stream",
          "name": "stdout",
          "text": [
            "<class 'pandas.core.frame.DataFrame'>\n",
            "RangeIndex: 299 entries, 0 to 298\n",
            "Data columns (total 13 columns):\n",
            " #   Column                    Non-Null Count  Dtype  \n",
            "---  ------                    --------------  -----  \n",
            " 0   age                       299 non-null    float64\n",
            " 1   anaemia                   299 non-null    int64  \n",
            " 2   creatinine_phosphokinase  299 non-null    int64  \n",
            " 3   diabetes                  299 non-null    int64  \n",
            " 4   ejection_fraction         299 non-null    int64  \n",
            " 5   high_blood_pressure       299 non-null    int64  \n",
            " 6   platelets                 299 non-null    float64\n",
            " 7   serum_creatinine          299 non-null    float64\n",
            " 8   serum_sodium              299 non-null    int64  \n",
            " 9   sex                       299 non-null    int64  \n",
            " 10  smoking                   299 non-null    int64  \n",
            " 11  time                      299 non-null    int64  \n",
            " 12  DEATH_EVENT               299 non-null    int64  \n",
            "dtypes: float64(3), int64(10)\n",
            "memory usage: 30.5 KB\n"
          ]
        }
      ],
      "source": [
        "data.head(10)\n",
        "data.describe()\n",
        "data.info()"
      ]
    },
    {
      "cell_type": "markdown",
      "metadata": {
        "id": "CAvcPg6Tv7M_"
      },
      "source": [
        "Check correlation with heatmap graph"
      ]
    },
    {
      "cell_type": "code",
      "execution_count": null,
      "metadata": {
        "colab": {
          "base_uri": "https://localhost:8080/",
          "height": 406
        },
        "id": "yq86NoaJv9TA",
        "outputId": "c40e24a6-a5f0-4942-89b7-8bbf3e571b91"
      },
      "outputs": [
        {
          "output_type": "execute_result",
          "data": {
            "text/plain": [
              "<AxesSubplot:>"
            ]
          },
          "metadata": {},
          "execution_count": 99
        },
        {
          "output_type": "display_data",
          "data": {
            "text/plain": [
              "<Figure size 432x288 with 2 Axes>"
            ],
            "image/png": "[encoded data removed]"
          },
          "metadata": {
            "needs_background": "light"
          }
        }
      ],
      "source": [
        "import seaborn as sns\n",
        "import matplotlib as plt\n",
        "corr = data.corr()\n",
        "sns.heatmap(corr,\n",
        "xticklabels=corr.columns.values,\n",
        "yticklabels=corr.columns.values)\n",
        "\n"
      ]
    },
    {
      "cell_type": "code",
      "source": [
        "data['ejection_fraction'].corr( data[\"diabetes\"])"
      ],
      "metadata": {
        "colab": {
          "base_uri": "https://localhost:8080/"
        },
        "id": "tQkpf7yQ--qi",
        "outputId": "f05fbd9d-731b-4957-8ae3-142b2f1d91b9"
      },
      "execution_count": null,
      "outputs": [
        {
          "output_type": "execute_result",
          "data": {
            "text/plain": [
              "-0.004850309667581045"
            ]
          },
          "metadata": {},
          "execution_count": 100
        }
      ]
    },
    {
      "cell_type": "code",
      "source": [
        "data[\"anaemia\"].corr(data[\"platelets\"])"
      ],
      "metadata": {
        "colab": {
          "base_uri": "https://localhost:8080/"
        },
        "id": "Pu9UA88InQji",
        "outputId": "b0de0f10-fb7d-4e0e-ed52-a8db53e0ae64"
      },
      "execution_count": null,
      "outputs": [
        {
          "output_type": "execute_result",
          "data": {
            "text/plain": [
              "-0.04378554973240576"
            ]
          },
          "metadata": {},
          "execution_count": 101
        }
      ]
    },
    {
      "cell_type": "markdown",
      "metadata": {
        "id": "GJQq3R-YwKgB"
      },
      "source": [
        "Prepare the test and training data sets"
      ]
    },
    {
      "cell_type": "code",
      "execution_count": null,
      "metadata": {
        "id": "euHWelWFwMA6"
      },
      "outputs": [],
      "source": [
        "import numpy as np\n",
        "labels=data['DEATH_EVENT']\n",
        "features = data.iloc[:,0:12]\n",
        "from sklearn.model_selection import train_test_split\n",
        "X=features\n",
        "y=np.ravel(labels)\n",
        "X_train, X_test, y_train, y_test = train_test_split(X, y, test_size=0.45, random_state=42)"
      ]
    },
    {
      "cell_type": "markdown",
      "metadata": {
        "id": "MGsCIslDwTt7"
      },
      "source": [
        "normalize the values that put the data on a standard scale, which is a standard practice with machine learning."
      ]
    },
    {
      "cell_type": "code",
      "execution_count": null,
      "metadata": {
        "id": "FZxl_XhXwfWc"
      },
      "outputs": [],
      "source": [
        "from sklearn.preprocessing import StandardScaler\n",
        "scaler = StandardScaler().fit(X_train)\n",
        "X_train = scaler.transform(X_train)\n",
        "X_test = scaler.transform(X_test)"
      ]
    },
    {
      "cell_type": "markdown",
      "metadata": {
        "id": "C1jQGUxUwixs"
      },
      "source": [
        "Activation Function"
      ]
    },
    {
      "cell_type": "code",
      "execution_count": null,
      "metadata": {
        "id": "Zx0s4awswsmO"
      },
      "outputs": [],
      "source": [
        "from keras.models import Sequential\n",
        "from keras.layers import Dense\n",
        "model = Sequential()\n",
        "model.add(Dense(8, activation='sigmoid', input_shape=(12,))) #change input shape to the number of input features\n",
        "model.add(Dense(8, activation='sigmoid'))\n",
        "model.add(Dense(1, activation='sigmoid'))"
      ]
    },
    {
      "cell_type": "markdown",
      "metadata": {
        "id": "Ox70laqXwvAP"
      },
      "source": [
        "binary_crossentropy because our label data is binary (1) survived and (0) died."
      ]
    },
    {
      "cell_type": "code",
      "execution_count": null,
      "metadata": {
        "colab": {
          "base_uri": "https://localhost:8080/"
        },
        "id": "k8MnZxREw8-v",
        "outputId": "726249bc-3c87-4af7-a42a-fc6e4701be66"
      },
      "outputs": [
        {
          "output_type": "stream",
          "name": "stdout",
          "text": [
            "Epoch 1/5\n",
            "164/164 [==============================] - 1s 2ms/step - loss: 0.6216 - accuracy: 0.7195\n",
            "Epoch 2/5\n",
            "164/164 [==============================] - 0s 2ms/step - loss: 0.5750 - accuracy: 0.7317\n",
            "Epoch 3/5\n",
            "164/164 [==============================] - 0s 2ms/step - loss: 0.5707 - accuracy: 0.7317\n",
            "Epoch 4/5\n",
            "164/164 [==============================] - 0s 2ms/step - loss: 0.5678 - accuracy: 0.7317\n",
            "Epoch 5/5\n",
            "164/164 [==============================] - 0s 2ms/step - loss: 0.5653 - accuracy: 0.7317\n"
          ]
        },
        {
          "output_type": "execute_result",
          "data": {
            "text/plain": [
              "<keras.callbacks.History at 0x7f539bb52880>"
            ]
          },
          "metadata": {},
          "execution_count": 105
        }
      ],
      "source": [
        "model.compile(loss='binary_crossentropy',\n",
        "optimizer='sgd',\n",
        "metrics=['accuracy'])\n",
        "model.fit(X_train, y_train,epochs=5, batch_size=1, verbose=1)"
      ]
    },
    {
      "cell_type": "code",
      "source": [
        "for layer in model.layers:\n",
        "  weights = layer.get_weights()\n",
        "  print(weights)"
      ],
      "metadata": {
        "colab": {
          "base_uri": "https://localhost:8080/"
        },
        "id": "i74Q5czfSVHI",
        "outputId": "63a97dd4-546f-41a0-bad7-6493caa306fb"
      },
      "execution_count": null,
      "outputs": [
        {
          "output_type": "stream",
          "name": "stdout",
          "text": [
            "[array([[ 0.10437385,  0.02992926,  0.17114036,  0.5126298 ,  0.38351786,\n",
            "        -0.32094783, -0.2393698 , -0.15618949],\n",
            "       [ 0.39020094,  0.3887211 , -0.06861605, -0.23234813,  0.12478306,\n",
            "         0.32455814, -0.20134981, -0.3659327 ],\n",
            "       [-0.12075672, -0.47124034, -0.1085246 , -0.4926829 ,  0.1957031 ,\n",
            "         0.5096129 ,  0.28533408,  0.23451471],\n",
            "       [ 0.09754832,  0.19795378,  0.43896616,  0.0067477 , -0.21451591,\n",
            "        -0.36105108, -0.19185886,  0.5000897 ],\n",
            "       [ 0.51836073,  0.24403687,  0.17431648,  0.51901263, -0.36025357,\n",
            "        -0.21957956,  0.13884936,  0.23621942],\n",
            "       [ 0.0412452 ,  0.02703301,  0.02146384, -0.5038585 , -0.03073231,\n",
            "         0.08461236, -0.363519  ,  0.16565931],\n",
            "       [ 0.5425265 ,  0.5092001 , -0.17845213, -0.12052125, -0.05083605,\n",
            "         0.16183169,  0.26639482,  0.11112984],\n",
            "       [-0.3715286 , -0.31504172,  0.05569688, -0.11897865, -0.26809645,\n",
            "         0.30263218, -0.39500836, -0.47774407],\n",
            "       [ 0.40912572, -0.00577188,  0.37439072, -0.13398595,  0.48343703,\n",
            "         0.16611561, -0.24158835,  0.2423192 ],\n",
            "       [-0.16470146, -0.48033157, -0.24476786, -0.4310684 ,  0.0228765 ,\n",
            "         0.43700773, -0.07697944,  0.18522544],\n",
            "       [-0.4046583 , -0.46073925, -0.45605814,  0.46339402, -0.5230611 ,\n",
            "        -0.39803636,  0.3126592 ,  0.05307812],\n",
            "       [-0.05190765,  0.14378776,  0.39693135, -0.3280702 ,  0.6020528 ,\n",
            "         0.1364518 , -0.13609132,  0.27659968]], dtype=float32), array([ 0.02852265, -0.00462953, -0.00105651,  0.00809073,  0.01051837,\n",
            "       -0.00058269, -0.01137833,  0.01758154], dtype=float32)]\n",
            "[array([[ 0.5510424 ,  0.55307305,  0.52789235, -0.629845  ,  0.3860037 ,\n",
            "        -0.29095525, -0.2606016 , -0.4482812 ],\n",
            "       [-0.01510425,  0.02754827, -0.13642591,  0.10871943,  0.23424087,\n",
            "        -0.07883064, -0.34459266, -0.07200468],\n",
            "       [ 0.31869188, -0.09816796, -0.41300273,  0.29941893, -0.4834411 ,\n",
            "        -0.25102484, -0.27683687, -0.5782052 ],\n",
            "       [ 0.5583929 ,  0.37716448,  0.47850397, -0.08413725,  0.58856416,\n",
            "         0.20067926,  0.29753032,  0.15234256],\n",
            "       [ 0.29465508,  0.41722345,  0.3665236 , -0.44592986, -0.3778192 ,\n",
            "        -0.50111455, -0.46408874,  0.06769419],\n",
            "       [ 0.31677744, -0.22814569, -0.12630983,  0.05728123,  0.31254512,\n",
            "        -0.25606677,  0.57155293,  0.11366487],\n",
            "       [ 0.4486777 ,  0.07226328, -0.3049864 ,  0.1331748 ,  0.40968794,\n",
            "         0.28846776, -0.3000947 ,  0.4768483 ],\n",
            "       [ 0.30883995, -0.0469752 ,  0.26224703,  0.03740708, -0.52523893,\n",
            "        -0.58430886,  0.6213011 , -0.5977927 ]], dtype=float32), array([ 0.01426553, -0.00528076,  0.04600337, -0.05552376, -0.00668351,\n",
            "       -0.00786495,  0.00776523, -0.04624069], dtype=float32)]\n",
            "[array([[-0.90565944],\n",
            "       [-0.07324379],\n",
            "       [-0.7036483 ],\n",
            "       [ 0.6436292 ],\n",
            "       [ 0.02612084],\n",
            "       [ 0.17414482],\n",
            "       [-0.16540536],\n",
            "       [ 0.67759174]], dtype=float32), array([-0.32113874], dtype=float32)]\n"
          ]
        }
      ]
    },
    {
      "cell_type": "markdown",
      "metadata": {
        "id": "dBRySUGOxBhX"
      },
      "source": [
        " draw a picture of the layers and their shapes"
      ]
    },
    {
      "cell_type": "code",
      "execution_count": null,
      "metadata": {
        "colab": {
          "base_uri": "https://localhost:8080/",
          "height": 422
        },
        "id": "zhjMBlRnxH6Q",
        "outputId": "b1c50f66-bedf-4e95-e0e3-4b4b648a7d22"
      },
      "outputs": [
        {
          "output_type": "execute_result",
          "data": {
            "image/png": "[encoded data removed]",
            "text/plain": [
              "<IPython.core.display.Image object>"
            ]
          },
          "metadata": {},
          "execution_count": 107
        }
      ],
      "source": [
        "from keras.utils import plot_model\n",
        "plot_model(model, to_file='/tmp/model.png', show_shapes=True,)"
      ]
    },
    {
      "cell_type": "markdown",
      "metadata": {
        "id": "JxQx7SihxKgY"
      },
      "source": [
        "run predictions on test data"
      ]
    },
    {
      "cell_type": "code",
      "execution_count": null,
      "metadata": {
        "colab": {
          "base_uri": "https://localhost:8080/"
        },
        "id": "xk-rofsKxQVg",
        "outputId": "cd570ca8-194b-486c-d597-00e7ac0b51d5"
      },
      "outputs": [
        {
          "output_type": "stream",
          "name": "stdout",
          "text": [
            "5/5 [==============================] - 0s 4ms/step\n"
          ]
        }
      ],
      "source": [
        "y_pred = model.predict(X_test)"
      ]
    },
    {
      "cell_type": "markdown",
      "metadata": {
        "id": "FVX6Y1QPxVp5"
      },
      "source": [
        "evaluate the score, or accuracy"
      ]
    },
    {
      "cell_type": "code",
      "execution_count": null,
      "metadata": {
        "colab": {
          "base_uri": "https://localhost:8080/"
        },
        "id": "mmZSXZnlxbfL",
        "outputId": "75e636cb-ec40-481b-cc82-4773838520ce"
      },
      "outputs": [
        {
          "output_type": "stream",
          "name": "stdout",
          "text": [
            "5/5 [==============================] - 0s 4ms/step - loss: 0.6837 - accuracy: 0.6148\n",
            "[0.6837295889854431, 0.614814817905426]\n"
          ]
        }
      ],
      "source": [
        "score = model.evaluate(X_test, y_test,verbose=1)\n",
        "print(score)"
      ]
    },
    {
      "cell_type": "code",
      "source": [
        "metrics_names = model.metrics_names\n",
        "metrics_values = model.evaluate(X_test, y_test, verbose=1)\n",
        "\n",
        "for metric, value in zip(metrics_names, metrics_values):\n",
        "    print(f\"{metric}: {value}\")\n",
        ""
      ],
      "metadata": {
        "colab": {
          "base_uri": "https://localhost:8080/"
        },
        "id": "fEg_UdUkuLKO",
        "outputId": "216a365e-4bf3-43e1-894b-b70ce67752f6"
      },
      "execution_count": null,
      "outputs": [
        {
          "output_type": "stream",
          "name": "stdout",
          "text": [
            "5/5 [==============================] - 0s 4ms/step - loss: 0.6837 - accuracy: 0.6148\n",
            "loss: 0.6837295889854431\n",
            "accuracy: 0.614814817905426\n"
          ]
        }
      ]
    }
  ],
  "metadata": {
    "colab": {
      "provenance": []
    },
    "kernelspec": {
      "display_name": "Python 3",
      "name": "python3"
    },
    "language_info": {
      "name": "python"
    }
  },
  "nbformat": 4,
  "nbformat_minor": 0
}