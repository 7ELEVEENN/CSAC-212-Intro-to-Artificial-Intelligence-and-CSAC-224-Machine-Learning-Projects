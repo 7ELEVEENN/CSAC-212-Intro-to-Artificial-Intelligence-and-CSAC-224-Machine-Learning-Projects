{
  "nbformat": 4,
  "nbformat_minor": 0,
  "metadata": {
    "colab": {
      "provenance": []
    },
    "kernelspec": {
      "name": "python3",
      "display_name": "Python 3"
    },
    "language_info": {
      "name": "python"
    }
  },
  "cells": [
    {
      "cell_type": "code",
      "execution_count": null,
      "metadata": {
        "id": "zGQ1agpvXvs1"
      },
      "outputs": [],
      "source": [
        "import csv\n",
        "import random\n",
        "from sklearn import svm\n",
        "from sklearn.linear_model import Perceptron\n",
        "from sklearn.model_selection import train_test_split\n",
        "from sklearn.naive_bayes import GaussianNB\n",
        "from sklearn.neighbors import KNeighborsClassifier\n",
        "from sklearn.metrics import confusion_matrix, ConfusionMatrixDisplay\n",
        "import numpy as np\n",
        "import matplotlib.pyplot as plt\n",
        "import seaborn as sns\n",
        "import pandas as pd\n"
      ]
    },
    {
      "cell_type": "markdown",
      "source": [],
      "metadata": {
        "id": "m7xCOeFOY1xz"
      }
    },
    {
      "cell_type": "markdown",
      "source": [
        "LOADING THE DATASET"
      ],
      "metadata": {
        "id": "zzSYkMzeY-oM"
      }
    },
    {
      "cell_type": "code",
      "source": [
        "columns = ['Age', 'Spectacle prescription', 'Astigmatic', 'Tear production rate', 'Class_labels']\n",
        "df = pd.read_csv('lenses.csv', names = columns)\n",
        "df.head(10)"
      ],
      "metadata": {
        "id": "cNIqCSCaY_q0",
        "colab": {
          "base_uri": "https://localhost:8080/",
          "height": 363
        },
        "outputId": "67bef4cb-61a6-4a28-8cb3-972281105d76"
      },
      "execution_count": null,
      "outputs": [
        {
          "output_type": "execute_result",
          "data": {
            "text/plain": [
              "   Age  Spectacle prescription  Astigmatic  Tear production rate  \\\n",
              "0    1                       1           1                     1   \n",
              "1    1                       1           1                     2   \n",
              "2    1                       1           2                     1   \n",
              "3    1                       1           2                     2   \n",
              "4    1                       2           1                     1   \n",
              "5    1                       2           1                     2   \n",
              "6    1                       2           2                     1   \n",
              "7    1                       2           2                     2   \n",
              "8    2                       1           1                     1   \n",
              "9    2                       1           1                     2   \n",
              "\n",
              "          Class_labels  \n",
              "0    No-contact-lenses  \n",
              "1  Soft-contact-lenses  \n",
              "2    No-contact-lenses  \n",
              "3  Hard-contact-lenses  \n",
              "4    No-contact-lenses  \n",
              "5  Soft-contact-lenses  \n",
              "6    No-contact-lenses  \n",
              "7  Hard-contact-lenses  \n",
              "8    No-contact-lenses  \n",
              "9  Soft-contact-lenses  "
            ],
            "text/html": [
              "\n",
              "  <div id=\"df-db5b31a9-ba47-42b8-9806-e365e1db336f\">\n",
              "    <div class=\"colab-df-container\">\n",
              "      <div>\n",
              "<style scoped>\n",
              "    .dataframe tbody tr th:only-of-type {\n",
              "        vertical-align: middle;\n",
              "    }\n",
              "\n",
              "    .dataframe tbody tr th {\n",
              "        vertical-align: top;\n",
              "    }\n",
              "\n",
              "    .dataframe thead th {\n",
              "        text-align: right;\n",
              "    }\n",
              "</style>\n",
              "<table border=\"1\" class=\"dataframe\">\n",
              "  <thead>\n",
              "    <tr style=\"text-align: right;\">\n",
              "      <th></th>\n",
              "      <th>Age</th>\n",
              "      <th>Spectacle prescription</th>\n",
              "      <th>Astigmatic</th>\n",
              "      <th>Tear production rate</th>\n",
              "      <th>Class_labels</th>\n",
              "    </tr>\n",
              "  </thead>\n",
              "  <tbody>\n",
              "    <tr>\n",
              "      <th>0</th>\n",
              "      <td>1</td>\n",
              "      <td>1</td>\n",
              "      <td>1</td>\n",
              "      <td>1</td>\n",
              "      <td>No-contact-lenses</td>\n",
              "    </tr>\n",
              "    <tr>\n",
              "      <th>1</th>\n",
              "      <td>1</td>\n",
              "      <td>1</td>\n",
              "      <td>1</td>\n",
              "      <td>2</td>\n",
              "      <td>Soft-contact-lenses</td>\n",
              "    </tr>\n",
              "    <tr>\n",
              "      <th>2</th>\n",
              "      <td>1</td>\n",
              "      <td>1</td>\n",
              "      <td>2</td>\n",
              "      <td>1</td>\n",
              "      <td>No-contact-lenses</td>\n",
              "    </tr>\n",
              "    <tr>\n",
              "      <th>3</th>\n",
              "      <td>1</td>\n",
              "      <td>1</td>\n",
              "      <td>2</td>\n",
              "      <td>2</td>\n",
              "      <td>Hard-contact-lenses</td>\n",
              "    </tr>\n",
              "    <tr>\n",
              "      <th>4</th>\n",
              "      <td>1</td>\n",
              "      <td>2</td>\n",
              "      <td>1</td>\n",
              "      <td>1</td>\n",
              "      <td>No-contact-lenses</td>\n",
              "    </tr>\n",
              "    <tr>\n",
              "      <th>5</th>\n",
              "      <td>1</td>\n",
              "      <td>2</td>\n",
              "      <td>1</td>\n",
              "      <td>2</td>\n",
              "      <td>Soft-contact-lenses</td>\n",
              "    </tr>\n",
              "    <tr>\n",
              "      <th>6</th>\n",
              "      <td>1</td>\n",
              "      <td>2</td>\n",
              "      <td>2</td>\n",
              "      <td>1</td>\n",
              "      <td>No-contact-lenses</td>\n",
              "    </tr>\n",
              "    <tr>\n",
              "      <th>7</th>\n",
              "      <td>1</td>\n",
              "      <td>2</td>\n",
              "      <td>2</td>\n",
              "      <td>2</td>\n",
              "      <td>Hard-contact-lenses</td>\n",
              "    </tr>\n",
              "    <tr>\n",
              "      <th>8</th>\n",
              "      <td>2</td>\n",
              "      <td>1</td>\n",
              "      <td>1</td>\n",
              "      <td>1</td>\n",
              "      <td>No-contact-lenses</td>\n",
              "    </tr>\n",
              "    <tr>\n",
              "      <th>9</th>\n",
              "      <td>2</td>\n",
              "      <td>1</td>\n",
              "      <td>1</td>\n",
              "      <td>2</td>\n",
              "      <td>Soft-contact-lenses</td>\n",
              "    </tr>\n",
              "  </tbody>\n",
              "</table>\n",
              "</div>\n",
              "      <button class=\"colab-df-convert\" onclick=\"convertToInteractive('df-db5b31a9-ba47-42b8-9806-e365e1db336f')\"\n",
              "              title=\"Convert this dataframe to an interactive table.\"\n",
              "              style=\"display:none;\">\n",
              "        \n",
              "  <svg xmlns=\"http://www.w3.org/2000/svg\" height=\"24px\"viewBox=\"0 0 24 24\"\n",
              "       width=\"24px\">\n",
              "    <path d=\"M0 0h24v24H0V0z\" fill=\"none\"/>\n",
              "    <path d=\"M18.56 5.44l.94 2.06.94-2.06 2.06-.94-2.06-.94-.94-2.06-.94 2.06-2.06.94zm-11 1L8.5 8.5l.94-2.06 2.06-.94-2.06-.94L8.5 2.5l-.94 2.06-2.06.94zm10 10l.94 2.06.94-2.06 2.06-.94-2.06-.94-.94-2.06-.94 2.06-2.06.94z\"/><path d=\"M17.41 7.96l-1.37-1.37c-.4-.4-.92-.59-1.43-.59-.52 0-1.04.2-1.43.59L10.3 9.45l-7.72 7.72c-.78.78-.78 2.05 0 2.83L4 21.41c.39.39.9.59 1.41.59.51 0 1.02-.2 1.41-.59l7.78-7.78 2.81-2.81c.8-.78.8-2.07 0-2.86zM5.41 20L4 18.59l7.72-7.72 1.47 1.35L5.41 20z\"/>\n",
              "  </svg>\n",
              "      </button>\n",
              "      \n",
              "  <style>\n",
              "    .colab-df-container {\n",
              "      display:flex;\n",
              "      flex-wrap:wrap;\n",
              "      gap: 12px;\n",
              "    }\n",
              "\n",
              "    .colab-df-convert {\n",
              "      background-color: #E8F0FE;\n",
              "      border: none;\n",
              "      border-radius: 50%;\n",
              "      cursor: pointer;\n",
              "      display: none;\n",
              "      fill: #1967D2;\n",
              "      height: 32px;\n",
              "      padding: 0 0 0 0;\n",
              "      width: 32px;\n",
              "    }\n",
              "\n",
              "    .colab-df-convert:hover {\n",
              "      background-color: #E2EBFA;\n",
              "      box-shadow: 0px 1px 2px rgba(60, 64, 67, 0.3), 0px 1px 3px 1px rgba(60, 64, 67, 0.15);\n",
              "      fill: #174EA6;\n",
              "    }\n",
              "\n",
              "    [theme=dark] .colab-df-convert {\n",
              "      background-color: #3B4455;\n",
              "      fill: #D2E3FC;\n",
              "    }\n",
              "\n",
              "    [theme=dark] .colab-df-convert:hover {\n",
              "      background-color: #434B5C;\n",
              "      box-shadow: 0px 1px 3px 1px rgba(0, 0, 0, 0.15);\n",
              "      filter: drop-shadow(0px 1px 2px rgba(0, 0, 0, 0.3));\n",
              "      fill: #FFFFFF;\n",
              "    }\n",
              "  </style>\n",
              "\n",
              "      <script>\n",
              "        const buttonEl =\n",
              "          document.querySelector('#df-db5b31a9-ba47-42b8-9806-e365e1db336f button.colab-df-convert');\n",
              "        buttonEl.style.display =\n",
              "          google.colab.kernel.accessAllowed ? 'block' : 'none';\n",
              "\n",
              "        async function convertToInteractive(key) {\n",
              "          const element = document.querySelector('#df-db5b31a9-ba47-42b8-9806-e365e1db336f');\n",
              "          const dataTable =\n",
              "            await google.colab.kernel.invokeFunction('convertToInteractive',\n",
              "                                                     [key], {});\n",
              "          if (!dataTable) return;\n",
              "\n",
              "          const docLinkHtml = 'Like what you see? Visit the ' +\n",
              "            '<a target=\"_blank\" href=https://colab.research.google.com/notebooks/data_table.ipynb>data table notebook</a>'\n",
              "            + ' to learn more about interactive tables.';\n",
              "          element.innerHTML = '';\n",
              "          dataTable['output_type'] = 'display_data';\n",
              "          await google.colab.output.renderOutput(dataTable, element);\n",
              "          const docLink = document.createElement('div');\n",
              "          docLink.innerHTML = docLinkHtml;\n",
              "          element.appendChild(docLink);\n",
              "        }\n",
              "      </script>\n",
              "    </div>\n",
              "  </div>\n",
              "  "
            ]
          },
          "metadata": {},
          "execution_count": 2
        }
      ]
    },
    {
      "cell_type": "markdown",
      "source": [
        "VISUALIZATION OF THE DATASET"
      ],
      "metadata": {
        "id": "Zq8LxrZvaiGk"
      }
    },
    {
      "cell_type": "code",
      "source": [
        "df.describe()"
      ],
      "metadata": {
        "id": "SbePD-x3alvx",
        "colab": {
          "base_uri": "https://localhost:8080/",
          "height": 300
        },
        "outputId": "fffb9849-0945-4cf8-fd70-afec7129dd7d"
      },
      "execution_count": null,
      "outputs": [
        {
          "output_type": "execute_result",
          "data": {
            "text/plain": [
              "             Age  Spectacle prescription  Astigmatic  Tear production rate\n",
              "count  24.000000               24.000000   24.000000             24.000000\n",
              "mean    2.000000                1.500000    1.500000              1.500000\n",
              "std     0.834058                0.510754    0.510754              0.510754\n",
              "min     1.000000                1.000000    1.000000              1.000000\n",
              "25%     1.000000                1.000000    1.000000              1.000000\n",
              "50%     2.000000                1.500000    1.500000              1.500000\n",
              "75%     3.000000                2.000000    2.000000              2.000000\n",
              "max     3.000000                2.000000    2.000000              2.000000"
            ],
            "text/html": [
              "\n",
              "  <div id=\"df-6e8a88cd-937f-4e03-bd37-ee9d5a9e3d37\">\n",
              "    <div class=\"colab-df-container\">\n",
              "      <div>\n",
              "<style scoped>\n",
              "    .dataframe tbody tr th:only-of-type {\n",
              "        vertical-align: middle;\n",
              "    }\n",
              "\n",
              "    .dataframe tbody tr th {\n",
              "        vertical-align: top;\n",
              "    }\n",
              "\n",
              "    .dataframe thead th {\n",
              "        text-align: right;\n",
              "    }\n",
              "</style>\n",
              "<table border=\"1\" class=\"dataframe\">\n",
              "  <thead>\n",
              "    <tr style=\"text-align: right;\">\n",
              "      <th></th>\n",
              "      <th>Age</th>\n",
              "      <th>Spectacle prescription</th>\n",
              "      <th>Astigmatic</th>\n",
              "      <th>Tear production rate</th>\n",
              "    </tr>\n",
              "  </thead>\n",
              "  <tbody>\n",
              "    <tr>\n",
              "      <th>count</th>\n",
              "      <td>24.000000</td>\n",
              "      <td>24.000000</td>\n",
              "      <td>24.000000</td>\n",
              "      <td>24.000000</td>\n",
              "    </tr>\n",
              "    <tr>\n",
              "      <th>mean</th>\n",
              "      <td>2.000000</td>\n",
              "      <td>1.500000</td>\n",
              "      <td>1.500000</td>\n",
              "      <td>1.500000</td>\n",
              "    </tr>\n",
              "    <tr>\n",
              "      <th>std</th>\n",
              "      <td>0.834058</td>\n",
              "      <td>0.510754</td>\n",
              "      <td>0.510754</td>\n",
              "      <td>0.510754</td>\n",
              "    </tr>\n",
              "    <tr>\n",
              "      <th>min</th>\n",
              "      <td>1.000000</td>\n",
              "      <td>1.000000</td>\n",
              "      <td>1.000000</td>\n",
              "      <td>1.000000</td>\n",
              "    </tr>\n",
              "    <tr>\n",
              "      <th>25%</th>\n",
              "      <td>1.000000</td>\n",
              "      <td>1.000000</td>\n",
              "      <td>1.000000</td>\n",
              "      <td>1.000000</td>\n",
              "    </tr>\n",
              "    <tr>\n",
              "      <th>50%</th>\n",
              "      <td>2.000000</td>\n",
              "      <td>1.500000</td>\n",
              "      <td>1.500000</td>\n",
              "      <td>1.500000</td>\n",
              "    </tr>\n",
              "    <tr>\n",
              "      <th>75%</th>\n",
              "      <td>3.000000</td>\n",
              "      <td>2.000000</td>\n",
              "      <td>2.000000</td>\n",
              "      <td>2.000000</td>\n",
              "    </tr>\n",
              "    <tr>\n",
              "      <th>max</th>\n",
              "      <td>3.000000</td>\n",
              "      <td>2.000000</td>\n",
              "      <td>2.000000</td>\n",
              "      <td>2.000000</td>\n",
              "    </tr>\n",
              "  </tbody>\n",
              "</table>\n",
              "</div>\n",
              "      <button class=\"colab-df-convert\" onclick=\"convertToInteractive('df-6e8a88cd-937f-4e03-bd37-ee9d5a9e3d37')\"\n",
              "              title=\"Convert this dataframe to an interactive table.\"\n",
              "              style=\"display:none;\">\n",
              "        \n",
              "  <svg xmlns=\"http://www.w3.org/2000/svg\" height=\"24px\"viewBox=\"0 0 24 24\"\n",
              "       width=\"24px\">\n",
              "    <path d=\"M0 0h24v24H0V0z\" fill=\"none\"/>\n",
              "    <path d=\"M18.56 5.44l.94 2.06.94-2.06 2.06-.94-2.06-.94-.94-2.06-.94 2.06-2.06.94zm-11 1L8.5 8.5l.94-2.06 2.06-.94-2.06-.94L8.5 2.5l-.94 2.06-2.06.94zm10 10l.94 2.06.94-2.06 2.06-.94-2.06-.94-.94-2.06-.94 2.06-2.06.94z\"/><path d=\"M17.41 7.96l-1.37-1.37c-.4-.4-.92-.59-1.43-.59-.52 0-1.04.2-1.43.59L10.3 9.45l-7.72 7.72c-.78.78-.78 2.05 0 2.83L4 21.41c.39.39.9.59 1.41.59.51 0 1.02-.2 1.41-.59l7.78-7.78 2.81-2.81c.8-.78.8-2.07 0-2.86zM5.41 20L4 18.59l7.72-7.72 1.47 1.35L5.41 20z\"/>\n",
              "  </svg>\n",
              "      </button>\n",
              "      \n",
              "  <style>\n",
              "    .colab-df-container {\n",
              "      display:flex;\n",
              "      flex-wrap:wrap;\n",
              "      gap: 12px;\n",
              "    }\n",
              "\n",
              "    .colab-df-convert {\n",
              "      background-color: #E8F0FE;\n",
              "      border: none;\n",
              "      border-radius: 50%;\n",
              "      cursor: pointer;\n",
              "      display: none;\n",
              "      fill: #1967D2;\n",
              "      height: 32px;\n",
              "      padding: 0 0 0 0;\n",
              "      width: 32px;\n",
              "    }\n",
              "\n",
              "    .colab-df-convert:hover {\n",
              "      background-color: #E2EBFA;\n",
              "      box-shadow: 0px 1px 2px rgba(60, 64, 67, 0.3), 0px 1px 3px 1px rgba(60, 64, 67, 0.15);\n",
              "      fill: #174EA6;\n",
              "    }\n",
              "\n",
              "    [theme=dark] .colab-df-convert {\n",
              "      background-color: #3B4455;\n",
              "      fill: #D2E3FC;\n",
              "    }\n",
              "\n",
              "    [theme=dark] .colab-df-convert:hover {\n",
              "      background-color: #434B5C;\n",
              "      box-shadow: 0px 1px 3px 1px rgba(0, 0, 0, 0.15);\n",
              "      filter: drop-shadow(0px 1px 2px rgba(0, 0, 0, 0.3));\n",
              "      fill: #FFFFFF;\n",
              "    }\n",
              "  </style>\n",
              "\n",
              "      <script>\n",
              "        const buttonEl =\n",
              "          document.querySelector('#df-6e8a88cd-937f-4e03-bd37-ee9d5a9e3d37 button.colab-df-convert');\n",
              "        buttonEl.style.display =\n",
              "          google.colab.kernel.accessAllowed ? 'block' : 'none';\n",
              "\n",
              "        async function convertToInteractive(key) {\n",
              "          const element = document.querySelector('#df-6e8a88cd-937f-4e03-bd37-ee9d5a9e3d37');\n",
              "          const dataTable =\n",
              "            await google.colab.kernel.invokeFunction('convertToInteractive',\n",
              "                                                     [key], {});\n",
              "          if (!dataTable) return;\n",
              "\n",
              "          const docLinkHtml = 'Like what you see? Visit the ' +\n",
              "            '<a target=\"_blank\" href=https://colab.research.google.com/notebooks/data_table.ipynb>data table notebook</a>'\n",
              "            + ' to learn more about interactive tables.';\n",
              "          element.innerHTML = '';\n",
              "          dataTable['output_type'] = 'display_data';\n",
              "          await google.colab.output.renderOutput(dataTable, element);\n",
              "          const docLink = document.createElement('div');\n",
              "          docLink.innerHTML = docLinkHtml;\n",
              "          element.appendChild(docLink);\n",
              "        }\n",
              "      </script>\n",
              "    </div>\n",
              "  </div>\n",
              "  "
            ]
          },
          "metadata": {},
          "execution_count": 3
        }
      ]
    },
    {
      "cell_type": "markdown",
      "source": [
        "Check for missing values in the data"
      ],
      "metadata": {
        "id": "zJYhmngPvJS0"
      }
    },
    {
      "cell_type": "code",
      "source": [
        "print(df.isnull().sum())"
      ],
      "metadata": {
        "colab": {
          "base_uri": "https://localhost:8080/"
        },
        "id": "81wBaByju4wl",
        "outputId": "0f69e477-3b62-4158-fab3-e5dfa5fd9c52"
      },
      "execution_count": null,
      "outputs": [
        {
          "output_type": "stream",
          "name": "stdout",
          "text": [
            "Age                       0\n",
            "Spectacle prescription    0\n",
            "Astigmatic                0\n",
            "Tear production rate      0\n",
            "Class_labels              0\n",
            "dtype: int64\n"
          ]
        }
      ]
    },
    {
      "cell_type": "markdown",
      "source": [
        "Check for outliers in the data:"
      ],
      "metadata": {
        "id": "TUBR5a4VvME-"
      }
    },
    {
      "cell_type": "code",
      "source": [
        "import seaborn as sns\n",
        "sns.boxplot(data=df)"
      ],
      "metadata": {
        "colab": {
          "base_uri": "https://localhost:8080/",
          "height": 283
        },
        "id": "cvkPqO5Ju6Nk",
        "outputId": "701145da-362d-4d7b-b157-d6275601a1c2"
      },
      "execution_count": null,
      "outputs": [
        {
          "output_type": "execute_result",
          "data": {
            "text/plain": [
              "<matplotlib.axes._subplots.AxesSubplot at 0x7fe1af627940>"
            ]
          },
          "metadata": {},
          "execution_count": 5
        },
        {
          "output_type": "display_data",
          "data": {
            "text/plain": [
              "<Figure size 432x288 with 1 Axes>"
            ],
            "image/png": "[encoded data removed]"
          },
          "metadata": {
            "needs_background": "light"
          }
        }
      ]
    },
    {
      "cell_type": "code",
      "source": [
        "sns.pairplot(df, hue='Class_labels')"
      ],
      "metadata": {
        "id": "7LDUMlSfa0Rq",
        "colab": {
          "base_uri": "https://localhost:8080/",
          "height": 744
        },
        "outputId": "e298b685-d211-4c21-c198-2c682501a5d0"
      },
      "execution_count": null,
      "outputs": [
        {
          "output_type": "execute_result",
          "data": {
            "text/plain": [
              "<seaborn.axisgrid.PairGrid at 0x7fe1af4dcf40>"
            ]
          },
          "metadata": {},
          "execution_count": 6
        },
        {
          "output_type": "display_data",
          "data": {
            "text/plain": [
              "<Figure size 856.5x720 with 20 Axes>"
            ],
            "image/png": "[encoded data removed]"
          },
          "metadata": {
            "needs_background": "light"
          }
        }
      ]
    },
    {
      "cell_type": "markdown",
      "source": [
        "SEPARATING INPUT COLUMNS AND THE OUTPUT COLUMN"
      ],
      "metadata": {
        "id": "l0LOpw-GcdTw"
      }
    },
    {
      "cell_type": "code",
      "source": [
        "data = df.values\n",
        "\n",
        "X = data[:,0:4]\n",
        "Y = data[:,4]\n",
        "print(X)\n",
        "print(Y)\n",
        "\n",
        "\n"
      ],
      "metadata": {
        "id": "vTJCsX3kchXA",
        "colab": {
          "base_uri": "https://localhost:8080/",
          "height": 235
        },
        "outputId": "89374b4f-5df6-4075-8afe-3621b8d306b5"
      },
      "execution_count": null,
      "outputs": [
        {
          "output_type": "error",
          "ename": "NameError",
          "evalue": "ignored",
          "traceback": [
            "\u001b[0;31m---------------------------------------------------------------------------\u001b[0m",
            "\u001b[0;31mNameError\u001b[0m                                 Traceback (most recent call last)",
            "\u001b[0;32m<ipython-input-2-d817964985c3>\u001b[0m in \u001b[0;36m<module>\u001b[0;34m\u001b[0m\n\u001b[0;32m----> 1\u001b[0;31m \u001b[0mdata\u001b[0m \u001b[0;34m=\u001b[0m \u001b[0mdf\u001b[0m\u001b[0;34m.\u001b[0m\u001b[0mvalues\u001b[0m\u001b[0;34m\u001b[0m\u001b[0;34m\u001b[0m\u001b[0m\n\u001b[0m\u001b[1;32m      2\u001b[0m \u001b[0;34m\u001b[0m\u001b[0m\n\u001b[1;32m      3\u001b[0m \u001b[0mX\u001b[0m \u001b[0;34m=\u001b[0m \u001b[0mdata\u001b[0m\u001b[0;34m[\u001b[0m\u001b[0;34m:\u001b[0m\u001b[0;34m,\u001b[0m\u001b[0;36m0\u001b[0m\u001b[0;34m:\u001b[0m\u001b[0;36m4\u001b[0m\u001b[0;34m]\u001b[0m\u001b[0;34m\u001b[0m\u001b[0;34m\u001b[0m\u001b[0m\n\u001b[1;32m      4\u001b[0m \u001b[0mY\u001b[0m \u001b[0;34m=\u001b[0m \u001b[0mdata\u001b[0m\u001b[0;34m[\u001b[0m\u001b[0;34m:\u001b[0m\u001b[0;34m,\u001b[0m\u001b[0;36m4\u001b[0m\u001b[0;34m]\u001b[0m\u001b[0;34m\u001b[0m\u001b[0;34m\u001b[0m\u001b[0m\n\u001b[1;32m      5\u001b[0m \u001b[0mprint\u001b[0m\u001b[0;34m(\u001b[0m\u001b[0mX\u001b[0m\u001b[0;34m)\u001b[0m\u001b[0;34m\u001b[0m\u001b[0;34m\u001b[0m\u001b[0m\n",
            "\u001b[0;31mNameError\u001b[0m: name 'df' is not defined"
          ]
        }
      ]
    },
    {
      "cell_type": "markdown",
      "source": [
        "SPLITTING THE DATA INTO TRAINING AND TESTING"
      ],
      "metadata": {
        "id": "wpsvD345c079"
      }
    },
    {
      "cell_type": "code",
      "source": [
        "from sklearn.model_selection import train_test_split\n",
        "X_train, X_test, y_train, y_test = train_test_split(X, Y, test_size = 0.5)\n",
        "print(\"X train data set \\n\")\n",
        "print(X_train)\n",
        "print(\"\\n X test data set \\n\")\n",
        "print(X_test)\n",
        "print(\"\\n y train data set \\n\")\n",
        "print(y_train)\n",
        "print(\"\\n y test data set \\n\")\n",
        "print(y_test)"
      ],
      "metadata": {
        "id": "OA_3Wektc4Is",
        "colab": {
          "base_uri": "https://localhost:8080/"
        },
        "outputId": "ab605bb7-c437-4ac2-f82a-92c544d33384"
      },
      "execution_count": null,
      "outputs": [
        {
          "output_type": "stream",
          "name": "stdout",
          "text": [
            "X train data set \n",
            "\n",
            "[[1 1 1 1]\n",
            " [2 2 2 2]\n",
            " [2 1 1 2]\n",
            " [1 2 2 1]\n",
            " [3 2 2 2]\n",
            " [3 1 1 1]\n",
            " [2 2 1 1]\n",
            " [3 2 1 2]\n",
            " [1 1 2 2]\n",
            " [2 1 1 1]\n",
            " [2 1 2 1]\n",
            " [3 2 1 1]]\n",
            "\n",
            " X test data set \n",
            "\n",
            "[[3 1 2 1]\n",
            " [3 2 2 1]\n",
            " [1 1 2 1]\n",
            " [3 1 2 2]\n",
            " [2 1 2 2]\n",
            " [1 2 1 1]\n",
            " [1 2 2 2]\n",
            " [2 2 1 2]\n",
            " [3 1 1 2]\n",
            " [1 1 1 2]\n",
            " [1 2 1 2]\n",
            " [2 2 2 1]]\n",
            "\n",
            " y train data set \n",
            "\n",
            "['No-contact-lenses' 'No-contact-lenses' 'Soft-contact-lenses'\n",
            " 'No-contact-lenses' 'No-contact-lenses' 'No-contact-lenses'\n",
            " 'No-contact-lenses' 'Soft-contact-lenses' 'Hard-contact-lenses'\n",
            " 'No-contact-lenses' 'No-contact-lenses' 'No-contact-lenses']\n",
            "\n",
            " y test data set \n",
            "\n",
            "['No-contact-lenses' 'No-contact-lenses' 'No-contact-lenses'\n",
            " 'Hard-contact-lenses' 'Hard-contact-lenses' 'No-contact-lenses'\n",
            " 'Hard-contact-lenses' 'Soft-contact-lenses' 'No-contact-lenses'\n",
            " 'Soft-contact-lenses' 'Soft-contact-lenses' 'No-contact-lenses']\n"
          ]
        }
      ]
    },
    {
      "cell_type": "markdown",
      "source": [
        "MODEL 1: Support Vector Machine Algorithm (SVM)"
      ],
      "metadata": {
        "id": "4yyQaZ7meEuw"
      }
    },
    {
      "cell_type": "code",
      "source": [
        "from sklearn.svm import SVC\n",
        "model_svc = svm.SVC()\n",
        "model_svc.fit(X_train, y_train)"
      ],
      "metadata": {
        "id": "YQfY_XPbeI1r",
        "colab": {
          "base_uri": "https://localhost:8080/"
        },
        "outputId": "1b7641e4-0b3f-4eb8-9463-c656d53fbbff"
      },
      "execution_count": null,
      "outputs": [
        {
          "output_type": "execute_result",
          "data": {
            "text/plain": [
              "SVC()"
            ]
          },
          "metadata": {},
          "execution_count": 9
        }
      ]
    },
    {
      "cell_type": "code",
      "source": [
        "prediction1 = model_svc.predict(X_test)\n",
        "# Calculate how well we performed\n",
        "from sklearn.metrics import accuracy_score\n",
        "print(accuracy_score(y_test, prediction1)*100)"
      ],
      "metadata": {
        "id": "s0t2JIojelo7",
        "colab": {
          "base_uri": "https://localhost:8080/"
        },
        "outputId": "7bcb1e8b-811f-476d-9e47-0f200251be82"
      },
      "execution_count": null,
      "outputs": [
        {
          "output_type": "stream",
          "name": "stdout",
          "text": [
            "50.0\n"
          ]
        }
      ]
    },
    {
      "cell_type": "markdown",
      "source": [
        "MODEL 2: Perceptron Algorithm"
      ],
      "metadata": {
        "id": "DcJu590IfDbM"
      }
    },
    {
      "cell_type": "code",
      "source": [
        "model_Perceptron = Perceptron()\n",
        "model_Perceptron.fit(X_train, y_train)\n"
      ],
      "metadata": {
        "id": "W_lI6XwUfKzM",
        "colab": {
          "base_uri": "https://localhost:8080/"
        },
        "outputId": "be19330b-ab06-471d-9685-a597324a0454"
      },
      "execution_count": null,
      "outputs": [
        {
          "output_type": "execute_result",
          "data": {
            "text/plain": [
              "Perceptron()"
            ]
          },
          "metadata": {},
          "execution_count": 11
        }
      ]
    },
    {
      "cell_type": "code",
      "source": [
        "prediction2 = model_Perceptron.predict(X_test)\n",
        "# Calculate how well we performed\n",
        "from sklearn.metrics import accuracy_score\n",
        "print(accuracy_score(y_test, prediction2)*100)"
      ],
      "metadata": {
        "id": "c19vSuPjgVi4",
        "colab": {
          "base_uri": "https://localhost:8080/"
        },
        "outputId": "35f88bd9-e1fd-433c-fcda-1ad579049ab6"
      },
      "execution_count": null,
      "outputs": [
        {
          "output_type": "stream",
          "name": "stdout",
          "text": [
            "75.0\n"
          ]
        }
      ]
    },
    {
      "cell_type": "markdown",
      "source": [
        "MODEL 3: Gaussian Naive Bayes"
      ],
      "metadata": {
        "id": "y-GwQ3pdhTUS"
      }
    },
    {
      "cell_type": "code",
      "source": [
        "model_GaussianNB = GaussianNB()\n",
        "model_GaussianNB.fit(X_train, y_train)"
      ],
      "metadata": {
        "id": "G7Pd_BJ1hjlU",
        "colab": {
          "base_uri": "https://localhost:8080/"
        },
        "outputId": "f63fdde9-d9bb-468b-e50d-38f8280dcf7c"
      },
      "execution_count": null,
      "outputs": [
        {
          "output_type": "execute_result",
          "data": {
            "text/plain": [
              "GaussianNB()"
            ]
          },
          "metadata": {},
          "execution_count": 13
        }
      ]
    },
    {
      "cell_type": "code",
      "source": [
        "prediction3 = model_GaussianNB.predict(X_test)\n",
        "# Calculate how well we performed\n",
        "from sklearn.metrics import accuracy_score\n",
        "print(accuracy_score(y_test, prediction3)*100)"
      ],
      "metadata": {
        "id": "106JfBbahyfL",
        "colab": {
          "base_uri": "https://localhost:8080/"
        },
        "outputId": "52d5cf2c-63bc-4160-c1c1-3bac4ae73a87"
      },
      "execution_count": null,
      "outputs": [
        {
          "output_type": "stream",
          "name": "stdout",
          "text": [
            "66.66666666666666\n"
          ]
        }
      ]
    },
    {
      "cell_type": "markdown",
      "source": [
        "MODEL 4: K-Nearest Neighbor Algorithm (KNN)\n"
      ],
      "metadata": {
        "id": "udHDnayIh6Vy"
      }
    },
    {
      "cell_type": "code",
      "source": [
        "model_KNN = KNeighborsClassifier(n_neighbors = 1)\n",
        "model_KNN.fit(X_train, y_train)"
      ],
      "metadata": {
        "id": "OAUjUzLkiINm",
        "colab": {
          "base_uri": "https://localhost:8080/"
        },
        "outputId": "c4582071-c207-4c78-896f-a1072e711e18"
      },
      "execution_count": null,
      "outputs": [
        {
          "output_type": "execute_result",
          "data": {
            "text/plain": [
              "KNeighborsClassifier(n_neighbors=1)"
            ]
          },
          "metadata": {},
          "execution_count": 15
        }
      ]
    },
    {
      "cell_type": "code",
      "source": [
        "prediction4 = model_KNN.predict(X_test)\n",
        "# Calculate how well we performed\n",
        "from sklearn.metrics import accuracy_score\n",
        "print(accuracy_score(y_test, prediction4)*100)"
      ],
      "metadata": {
        "id": "aewjNdyQi4e1",
        "colab": {
          "base_uri": "https://localhost:8080/"
        },
        "outputId": "5de5e414-638d-4965-8180-c62f29370e3f"
      },
      "execution_count": null,
      "outputs": [
        {
          "output_type": "stream",
          "name": "stdout",
          "text": [
            "41.66666666666667\n"
          ]
        }
      ]
    },
    {
      "cell_type": "code",
      "source": [
        "svm = SVC(max_iter = 1000, random_state = 42)\n",
        "svm.fit(X_train, y_train)\n",
        "\n",
        "y_test_predicted = svm.predict(X_test)\n",
        "from sklearn.metrics import accuracy_score\n",
        "print(accuracy_score(y_test, y_test_predicted)*100)"
      ],
      "metadata": {
        "colab": {
          "base_uri": "https://localhost:8080/"
        },
        "id": "NMOJNb1k0BIE",
        "outputId": "6b225662-eae3-4374-a773-fd994b07d260"
      },
      "execution_count": null,
      "outputs": [
        {
          "output_type": "stream",
          "name": "stdout",
          "text": [
            "50.0\n"
          ]
        }
      ]
    },
    {
      "cell_type": "code",
      "source": [
        "from sklearn.metrics import classification_report\n",
        "print(classification_report(y_test, prediction1))"
      ],
      "metadata": {
        "id": "0C7cUypUFv4b",
        "colab": {
          "base_uri": "https://localhost:8080/"
        },
        "outputId": "fab33ccb-403d-4a60-fe23-c6db7ba69927"
      },
      "execution_count": null,
      "outputs": [
        {
          "output_type": "stream",
          "name": "stdout",
          "text": [
            "                     precision    recall  f1-score   support\n",
            "\n",
            "Hard-contact-lenses       0.00      0.00      0.00         3\n",
            "  No-contact-lenses       0.50      1.00      0.67         6\n",
            "Soft-contact-lenses       0.00      0.00      0.00         3\n",
            "\n",
            "           accuracy                           0.50        12\n",
            "          macro avg       0.17      0.33      0.22        12\n",
            "       weighted avg       0.25      0.50      0.33        12\n",
            "\n"
          ]
        },
        {
          "output_type": "stream",
          "name": "stderr",
          "text": [
            "/usr/local/lib/python3.8/dist-packages/sklearn/metrics/_classification.py:1318: UndefinedMetricWarning: Precision and F-score are ill-defined and being set to 0.0 in labels with no predicted samples. Use `zero_division` parameter to control this behavior.\n",
            "  _warn_prf(average, modifier, msg_start, len(result))\n",
            "/usr/local/lib/python3.8/dist-packages/sklearn/metrics/_classification.py:1318: UndefinedMetricWarning: Precision and F-score are ill-defined and being set to 0.0 in labels with no predicted samples. Use `zero_division` parameter to control this behavior.\n",
            "  _warn_prf(average, modifier, msg_start, len(result))\n",
            "/usr/local/lib/python3.8/dist-packages/sklearn/metrics/_classification.py:1318: UndefinedMetricWarning: Precision and F-score are ill-defined and being set to 0.0 in labels with no predicted samples. Use `zero_division` parameter to control this behavior.\n",
            "  _warn_prf(average, modifier, msg_start, len(result))\n"
          ]
        }
      ]
    },
    {
      "cell_type": "code",
      "source": [
        "from sklearn.metrics import classification_report\n",
        "print(classification_report(y_test, prediction2))"
      ],
      "metadata": {
        "id": "Ve0ToG3CFyaK",
        "colab": {
          "base_uri": "https://localhost:8080/"
        },
        "outputId": "931b79f1-424c-4370-bf4a-d3843f13c085"
      },
      "execution_count": null,
      "outputs": [
        {
          "output_type": "stream",
          "name": "stdout",
          "text": [
            "                     precision    recall  f1-score   support\n",
            "\n",
            "Hard-contact-lenses       1.00      0.33      0.50         3\n",
            "  No-contact-lenses       0.83      0.83      0.83         6\n",
            "Soft-contact-lenses       0.60      1.00      0.75         3\n",
            "\n",
            "           accuracy                           0.75        12\n",
            "          macro avg       0.81      0.72      0.69        12\n",
            "       weighted avg       0.82      0.75      0.73        12\n",
            "\n"
          ]
        }
      ]
    },
    {
      "cell_type": "markdown",
      "source": [
        "DETAILED CLASSIFICATION REPORT"
      ],
      "metadata": {
        "id": "213AdXH3jbaY"
      }
    },
    {
      "cell_type": "code",
      "source": [
        "from sklearn.metrics import classification_report\n",
        "print(classification_report(y_test, prediction3))"
      ],
      "metadata": {
        "id": "m_KndKGyjelw",
        "colab": {
          "base_uri": "https://localhost:8080/"
        },
        "outputId": "9918ab50-2e42-4357-d88c-ea3240a3d9df"
      },
      "execution_count": null,
      "outputs": [
        {
          "output_type": "stream",
          "name": "stdout",
          "text": [
            "                     precision    recall  f1-score   support\n",
            "\n",
            "Hard-contact-lenses       0.00      0.00      0.00         3\n",
            "  No-contact-lenses       0.62      0.83      0.71         6\n",
            "Soft-contact-lenses       0.75      1.00      0.86         3\n",
            "\n",
            "           accuracy                           0.67        12\n",
            "          macro avg       0.46      0.61      0.52        12\n",
            "       weighted avg       0.50      0.67      0.57        12\n",
            "\n"
          ]
        },
        {
          "output_type": "stream",
          "name": "stderr",
          "text": [
            "/usr/local/lib/python3.8/dist-packages/sklearn/metrics/_classification.py:1318: UndefinedMetricWarning: Precision and F-score are ill-defined and being set to 0.0 in labels with no predicted samples. Use `zero_division` parameter to control this behavior.\n",
            "  _warn_prf(average, modifier, msg_start, len(result))\n",
            "/usr/local/lib/python3.8/dist-packages/sklearn/metrics/_classification.py:1318: UndefinedMetricWarning: Precision and F-score are ill-defined and being set to 0.0 in labels with no predicted samples. Use `zero_division` parameter to control this behavior.\n",
            "  _warn_prf(average, modifier, msg_start, len(result))\n",
            "/usr/local/lib/python3.8/dist-packages/sklearn/metrics/_classification.py:1318: UndefinedMetricWarning: Precision and F-score are ill-defined and being set to 0.0 in labels with no predicted samples. Use `zero_division` parameter to control this behavior.\n",
            "  _warn_prf(average, modifier, msg_start, len(result))\n"
          ]
        }
      ]
    },
    {
      "cell_type": "code",
      "source": [
        "from sklearn.metrics import classification_report\n",
        "print(classification_report(y_test, prediction4))"
      ],
      "metadata": {
        "id": "qvfRM1gvF0xS",
        "colab": {
          "base_uri": "https://localhost:8080/"
        },
        "outputId": "2daaeaac-d211-420c-ab92-7b983eb1c1a1"
      },
      "execution_count": null,
      "outputs": [
        {
          "output_type": "stream",
          "name": "stdout",
          "text": [
            "                     precision    recall  f1-score   support\n",
            "\n",
            "Hard-contact-lenses       0.00      0.00      0.00         3\n",
            "  No-contact-lenses       0.45      0.83      0.59         6\n",
            "Soft-contact-lenses       0.00      0.00      0.00         3\n",
            "\n",
            "           accuracy                           0.42        12\n",
            "          macro avg       0.15      0.28      0.20        12\n",
            "       weighted avg       0.23      0.42      0.29        12\n",
            "\n"
          ]
        },
        {
          "output_type": "stream",
          "name": "stderr",
          "text": [
            "/usr/local/lib/python3.8/dist-packages/sklearn/metrics/_classification.py:1318: UndefinedMetricWarning: Precision and F-score are ill-defined and being set to 0.0 in labels with no predicted samples. Use `zero_division` parameter to control this behavior.\n",
            "  _warn_prf(average, modifier, msg_start, len(result))\n",
            "/usr/local/lib/python3.8/dist-packages/sklearn/metrics/_classification.py:1318: UndefinedMetricWarning: Precision and F-score are ill-defined and being set to 0.0 in labels with no predicted samples. Use `zero_division` parameter to control this behavior.\n",
            "  _warn_prf(average, modifier, msg_start, len(result))\n",
            "/usr/local/lib/python3.8/dist-packages/sklearn/metrics/_classification.py:1318: UndefinedMetricWarning: Precision and F-score are ill-defined and being set to 0.0 in labels with no predicted samples. Use `zero_division` parameter to control this behavior.\n",
            "  _warn_prf(average, modifier, msg_start, len(result))\n"
          ]
        }
      ]
    },
    {
      "cell_type": "code",
      "source": [
        "X_new = np.array([[1,2,2,2], [2,1,1,2], [3,2,2,1]])\n",
        "# Prediction of the class from the input vector\n",
        "prediction = model_svc.predict(X_new)\n",
        "print(\"Contact Lens Prescription: {}\".format(prediction))"
      ],
      "metadata": {
        "id": "7hvdhWETkR1V",
        "colab": {
          "base_uri": "https://localhost:8080/"
        },
        "outputId": "04322f9c-27f9-4cf6-d9f0-e10dfbc52b4e"
      },
      "execution_count": null,
      "outputs": [
        {
          "output_type": "stream",
          "name": "stdout",
          "text": [
            "Contact Lens Prescription: ['No-contact-lenses' 'No-contact-lenses' 'No-contact-lenses']\n"
          ]
        }
      ]
    },
    {
      "cell_type": "code",
      "source": [
        "model_svc.classes_"
      ],
      "metadata": {
        "id": "LfCQXdiY3KsV",
        "colab": {
          "base_uri": "https://localhost:8080/"
        },
        "outputId": "7191a7a1-7431-4fea-dcd7-1b1eaa24bf22"
      },
      "execution_count": null,
      "outputs": [
        {
          "output_type": "execute_result",
          "data": {
            "text/plain": [
              "array(['Hard-contact-lenses', 'No-contact-lenses', 'Soft-contact-lenses'],\n",
              "      dtype=object)"
            ]
          },
          "metadata": {},
          "execution_count": 23
        }
      ]
    },
    {
      "cell_type": "code",
      "source": [
        "cm = confusion_matrix(y_test, y_test_predicted, labels = model_svc.classes_)\n",
        "print(cm)"
      ],
      "metadata": {
        "id": "4Mo93Pq-2HpL",
        "colab": {
          "base_uri": "https://localhost:8080/"
        },
        "outputId": "204aa701-94d0-4e39-c753-7d64626199b0"
      },
      "execution_count": null,
      "outputs": [
        {
          "output_type": "stream",
          "name": "stdout",
          "text": [
            "[[0 3 0]\n",
            " [0 6 0]\n",
            " [0 3 0]]\n"
          ]
        }
      ]
    },
    {
      "cell_type": "code",
      "source": [
        "cm_disp = ConfusionMatrixDisplay(confusion_matrix=cm, display_labels = ['Hard lenses', 'Soft lenses', 'No lenses'])\n",
        "cm_disp.plot()"
      ],
      "metadata": {
        "id": "A6oF5Lv43ftT",
        "colab": {
          "base_uri": "https://localhost:8080/",
          "height": 301
        },
        "outputId": "e0e8a1f8-e02c-4a12-8d31-eba1bd5a0289"
      },
      "execution_count": null,
      "outputs": [
        {
          "output_type": "execute_result",
          "data": {
            "text/plain": [
              "<sklearn.metrics._plot.confusion_matrix.ConfusionMatrixDisplay at 0x7fe1af4dc580>"
            ]
          },
          "metadata": {},
          "execution_count": 25
        },
        {
          "output_type": "display_data",
          "data": {
            "text/plain": [
              "<Figure size 432x288 with 2 Axes>"
            ],
            "image/png": "[encoded data removed]"
          },
          "metadata": {
            "needs_background": "light"
          }
        }
      ]
    },
    {
      "cell_type": "code",
      "source": [],
      "metadata": {
        "id": "D35g961r6kIV"
      },
      "execution_count": null,
      "outputs": []
    },
    {
      "cell_type": "code",
      "source": [
        "cm = confusion_matrix(y_test, prediction1, labels = model_svc.classes_)\n",
        "print(cm)\n",
        "cm_disp = ConfusionMatrixDisplay(confusion_matrix=cm, display_labels = ['Hard lenses', 'Soft lenses', 'No lenses'])\n",
        "cm_disp.plot()"
      ],
      "metadata": {
        "id": "m1eODJGv5k-k",
        "colab": {
          "base_uri": "https://localhost:8080/",
          "height": 357
        },
        "outputId": "f8627494-0ab2-4517-85c5-00c7b4fe5b89"
      },
      "execution_count": null,
      "outputs": [
        {
          "output_type": "stream",
          "name": "stdout",
          "text": [
            "[[0 3 0]\n",
            " [0 6 0]\n",
            " [0 3 0]]\n"
          ]
        },
        {
          "output_type": "execute_result",
          "data": {
            "text/plain": [
              "<sklearn.metrics._plot.confusion_matrix.ConfusionMatrixDisplay at 0x7fe1a8968700>"
            ]
          },
          "metadata": {},
          "execution_count": 26
        },
        {
          "output_type": "display_data",
          "data": {
            "text/plain": [
              "<Figure size 432x288 with 2 Axes>"
            ],
            "image/png": "[encoded data removed]"
          },
          "metadata": {
            "needs_background": "light"
          }
        }
      ]
    },
    {
      "cell_type": "code",
      "source": [
        "cm = confusion_matrix(y_test, prediction2, labels = model_svc.classes_)\n",
        "print(cm)\n",
        "cm_disp = ConfusionMatrixDisplay(confusion_matrix=cm, display_labels = ['Hard lenses', 'Soft lenses', 'No lenses'])\n",
        "cm_disp.plot()"
      ],
      "metadata": {
        "id": "PVnYF2GE7BNO",
        "colab": {
          "base_uri": "https://localhost:8080/",
          "height": 357
        },
        "outputId": "7884f475-b764-4af8-e523-2cf46b3561a1"
      },
      "execution_count": null,
      "outputs": [
        {
          "output_type": "stream",
          "name": "stdout",
          "text": [
            "[[1 1 1]\n",
            " [0 5 1]\n",
            " [0 0 3]]\n"
          ]
        },
        {
          "output_type": "execute_result",
          "data": {
            "text/plain": [
              "<sklearn.metrics._plot.confusion_matrix.ConfusionMatrixDisplay at 0x7fe1aa2510a0>"
            ]
          },
          "metadata": {},
          "execution_count": 27
        },
        {
          "output_type": "display_data",
          "data": {
            "text/plain": [
              "<Figure size 432x288 with 2 Axes>"
            ],
            "image/png": "[encoded data removed]"
          },
          "metadata": {
            "needs_background": "light"
          }
        }
      ]
    },
    {
      "cell_type": "code",
      "source": [
        "cm = confusion_matrix(y_test, prediction3, labels = model_svc.classes_)\n",
        "print(cm)\n",
        "cm_disp = ConfusionMatrixDisplay(confusion_matrix=cm, display_labels = ['Hard lenses', 'Soft lenses', 'No lenses'])\n",
        "cm_disp.plot()"
      ],
      "metadata": {
        "id": "gjAHAJX17FUx",
        "colab": {
          "base_uri": "https://localhost:8080/",
          "height": 357
        },
        "outputId": "945be472-c2d3-4222-a2ca-758f1d3b5d1f"
      },
      "execution_count": null,
      "outputs": [
        {
          "output_type": "stream",
          "name": "stdout",
          "text": [
            "[[0 3 0]\n",
            " [0 5 1]\n",
            " [0 0 3]]\n"
          ]
        },
        {
          "output_type": "execute_result",
          "data": {
            "text/plain": [
              "<sklearn.metrics._plot.confusion_matrix.ConfusionMatrixDisplay at 0x7fe1a8946370>"
            ]
          },
          "metadata": {},
          "execution_count": 28
        },
        {
          "output_type": "display_data",
          "data": {
            "text/plain": [
              "<Figure size 432x288 with 2 Axes>"
            ],
            "image/png": "[encoded data removed]"
          },
          "metadata": {
            "needs_background": "light"
          }
        }
      ]
    },
    {
      "cell_type": "code",
      "source": [
        "cm = confusion_matrix(y_test, prediction4, labels = model_svc.classes_)\n",
        "print(cm)\n",
        "cm_disp = ConfusionMatrixDisplay(confusion_matrix=cm, display_labels = ['Hard lenses', 'Soft lenses', 'No lenses'])\n",
        "cm_disp.plot()"
      ],
      "metadata": {
        "id": "3O_vmyFD7Lmw",
        "colab": {
          "base_uri": "https://localhost:8080/",
          "height": 357
        },
        "outputId": "8325b3cb-4a1a-4379-bba4-1c056d15adf9"
      },
      "execution_count": null,
      "outputs": [
        {
          "output_type": "stream",
          "name": "stdout",
          "text": [
            "[[0 3 0]\n",
            " [0 5 1]\n",
            " [0 3 0]]\n"
          ]
        },
        {
          "output_type": "execute_result",
          "data": {
            "text/plain": [
              "<sklearn.metrics._plot.confusion_matrix.ConfusionMatrixDisplay at 0x7fe1a879d820>"
            ]
          },
          "metadata": {},
          "execution_count": 29
        },
        {
          "output_type": "display_data",
          "data": {
            "text/plain": [
              "<Figure size 432x288 with 2 Axes>"
            ],
            "image/png": "[encoded data removed]"
          },
          "metadata": {
            "needs_background": "light"
          }
        }
      ]
    },
    {
      "cell_type": "code",
      "source": [
        "import seaborn as sns\n",
        "\n",
        "cm = confusion_matrix(y_test, prediction1, labels = model_svc.classes_)\n",
        "df_cm = pd.DataFrame(cm, index = model_svc.classes_, columns = model_svc.classes_)\n",
        "sns.heatmap(df_cm, annot = True, fmt = 'd')\n",
        "plt.xlabel('Predicted')\n",
        "plt.ylabel('Actual')\n",
        "plt.show()\n"
      ],
      "metadata": {
        "colab": {
          "base_uri": "https://localhost:8080/",
          "height": 374
        },
        "id": "R_kWi5Zqc5z6",
        "outputId": "ee6d9a55-23ae-4266-91a9-5982e5ecdbd0"
      },
      "execution_count": null,
      "outputs": [
        {
          "output_type": "display_data",
          "data": {
            "text/plain": [
              "<Figure size 432x288 with 2 Axes>"
            ],
            "image/png": "[encoded data removed]"
          },
          "metadata": {
            "needs_background": "light"
          }
        }
      ]
    },
    {
      "cell_type": "code",
      "source": [
        "import seaborn as sns\n",
        "\n",
        "cm = confusion_matrix(y_test, prediction2, labels = model_svc.classes_)\n",
        "df_cm = pd.DataFrame(cm, index = model_svc.classes_, columns = model_svc.classes_)\n",
        "sns.heatmap(df_cm, annot = True, fmt = 'd')\n",
        "plt.xlabel('Predicted')\n",
        "plt.ylabel('Actual')\n",
        "plt.show()\n"
      ],
      "metadata": {
        "colab": {
          "base_uri": "https://localhost:8080/",
          "height": 374
        },
        "id": "YTKRA5uNe-fa",
        "outputId": "a5727cbc-563d-4af8-849e-c6fe0d8a46c1"
      },
      "execution_count": null,
      "outputs": [
        {
          "output_type": "display_data",
          "data": {
            "text/plain": [
              "<Figure size 432x288 with 2 Axes>"
            ],
            "image/png": "[encoded data removed]"
          },
          "metadata": {
            "needs_background": "light"
          }
        }
      ]
    },
    {
      "cell_type": "code",
      "source": [
        "import seaborn as sns\n",
        "\n",
        "cm = confusion_matrix(y_test, prediction3, labels = model_svc.classes_)\n",
        "df_cm = pd.DataFrame(cm, index = model_svc.classes_, columns = model_svc.classes_)\n",
        "sns.heatmap(df_cm, annot = True, fmt = 'd')\n",
        "plt.xlabel('Predicted')\n",
        "plt.ylabel('Actual')\n",
        "plt.show()\n"
      ],
      "metadata": {
        "colab": {
          "base_uri": "https://localhost:8080/",
          "height": 374
        },
        "id": "4-TzG71pe-7z",
        "outputId": "64992f01-ddc0-4998-9f39-8659425b5195"
      },
      "execution_count": null,
      "outputs": [
        {
          "output_type": "display_data",
          "data": {
            "text/plain": [
              "<Figure size 432x288 with 2 Axes>"
            ],
            "image/png": "[encoded data removed]"
          },
          "metadata": {
            "needs_background": "light"
          }
        }
      ]
    },
    {
      "cell_type": "code",
      "source": [
        "import seaborn as sns\n",
        "\n",
        "cm = confusion_matrix(y_test, prediction4, labels = model_svc.classes_)\n",
        "df_cm = pd.DataFrame(cm, index = model_svc.classes_, columns = model_svc.classes_)\n",
        "sns.heatmap(df_cm, annot = True, fmt = 'd')\n",
        "plt.xlabel('Predicted')\n",
        "plt.ylabel('Actual')\n",
        "plt.show()\n"
      ],
      "metadata": {
        "colab": {
          "base_uri": "https://localhost:8080/",
          "height": 374
        },
        "id": "CkzrYkVOe_Kc",
        "outputId": "7abae804-0b20-4a69-c2e1-eff886919659"
      },
      "execution_count": null,
      "outputs": [
        {
          "output_type": "display_data",
          "data": {
            "text/plain": [
              "<Figure size 432x288 with 2 Axes>"
            ],
            "image/png": "[encoded data removed]"
          },
          "metadata": {
            "needs_background": "light"
          }
        }
      ]
    },
    {
      "cell_type": "code",
      "source": [
        "from sklearn.model_selection import cross_val_score\n",
        "\n",
        "model = SVC()\n",
        "scores = cross_val_score(model, X, Y, cv = 5)\n",
        "\n",
        "print(\"Cross-validation scores:\", scores)\n",
        "print(\"Mean score:\", np.mean(scores))\n"
      ],
      "metadata": {
        "colab": {
          "base_uri": "https://localhost:8080/"
        },
        "id": "WCb6vpBKi_z8",
        "outputId": "095e69b5-e86f-4b3c-db95-90068b95a642"
      },
      "execution_count": null,
      "outputs": [
        {
          "output_type": "stream",
          "name": "stdout",
          "text": [
            "Cross-validation scores: [0.8  0.6  0.6  0.8  0.75]\n",
            "Mean score: 0.71\n"
          ]
        },
        {
          "output_type": "stream",
          "name": "stderr",
          "text": [
            "/usr/local/lib/python3.8/dist-packages/sklearn/model_selection/_split.py:676: UserWarning: The least populated class in y has only 4 members, which is less than n_splits=5.\n",
            "  warnings.warn(\n"
          ]
        }
      ]
    },
    {
      "cell_type": "code",
      "source": [
        "from sklearn.model_selection import cross_val_score\n",
        "\n",
        "model = Perceptron()\n",
        "scores = cross_val_score(model, X, Y, cv = 5)\n",
        "\n",
        "print(\"Cross-validation scores:\", scores)\n",
        "print(\"Mean score:\", np.mean(scores))\n"
      ],
      "metadata": {
        "colab": {
          "base_uri": "https://localhost:8080/"
        },
        "id": "QgdPvzwLjVrB",
        "outputId": "41d806fe-e18a-4b91-b528-53c6c6510f97"
      },
      "execution_count": null,
      "outputs": [
        {
          "output_type": "stream",
          "name": "stdout",
          "text": [
            "Cross-validation scores: [0.8  0.8  0.6  0.6  0.75]\n",
            "Mean score: 0.7100000000000001\n"
          ]
        },
        {
          "output_type": "stream",
          "name": "stderr",
          "text": [
            "/usr/local/lib/python3.8/dist-packages/sklearn/model_selection/_split.py:676: UserWarning: The least populated class in y has only 4 members, which is less than n_splits=5.\n",
            "  warnings.warn(\n"
          ]
        }
      ]
    },
    {
      "cell_type": "code",
      "source": [
        "from sklearn.model_selection import cross_val_score\n",
        "\n",
        "model = GaussianNB()\n",
        "scores = cross_val_score(model, X, Y, cv = 5)\n",
        "\n",
        "print(\"Cross-validation scores:\", scores)\n",
        "print(\"Mean score:\", np.mean(scores))\n"
      ],
      "metadata": {
        "colab": {
          "base_uri": "https://localhost:8080/"
        },
        "id": "Wv1o5xyljV1f",
        "outputId": "94505673-8010-4e04-a382-ddefdb670ee2"
      },
      "execution_count": null,
      "outputs": [
        {
          "output_type": "stream",
          "name": "stdout",
          "text": [
            "Cross-validation scores: [1.   0.8  0.8  0.8  0.75]\n",
            "Mean score: 0.8300000000000001\n"
          ]
        },
        {
          "output_type": "stream",
          "name": "stderr",
          "text": [
            "/usr/local/lib/python3.8/dist-packages/sklearn/model_selection/_split.py:676: UserWarning: The least populated class in y has only 4 members, which is less than n_splits=5.\n",
            "  warnings.warn(\n"
          ]
        }
      ]
    },
    {
      "cell_type": "code",
      "source": [
        "from sklearn.model_selection import cross_val_score\n",
        "\n",
        "model = KNeighborsClassifier(n_neighbors = 1)\n",
        "scores = cross_val_score(model, X, Y, cv = 5)\n",
        "\n",
        "print(\"Cross-validation scores:\", scores)\n",
        "print(\"Mean score:\", np.mean(scores))\n",
        "\n",
        "\n",
        "\n"
      ],
      "metadata": {
        "colab": {
          "base_uri": "https://localhost:8080/"
        },
        "id": "8bKEtUySjtYM",
        "outputId": "dfa4493f-c054-4284-bb4a-ca89db7b0102"
      },
      "execution_count": null,
      "outputs": [
        {
          "output_type": "stream",
          "name": "stdout",
          "text": [
            "Cross-validation scores: [0.8 1.  0.8 0.8 1. ]\n",
            "Mean score: 0.8800000000000001\n"
          ]
        },
        {
          "output_type": "stream",
          "name": "stderr",
          "text": [
            "/usr/local/lib/python3.8/dist-packages/sklearn/model_selection/_split.py:676: UserWarning: The least populated class in y has only 4 members, which is less than n_splits=5.\n",
            "  warnings.warn(\n"
          ]
        }
      ]
    },
    {
      "cell_type": "code",
      "source": [
        "# Load the trained SVM model\n",
        "model_svc = SVC()\n",
        "\n",
        "# Print the hyperparameters of the model\n",
        "print(model_svc.get_params())\n",
        "print(model_svc.kernel)"
      ],
      "metadata": {
        "colab": {
          "base_uri": "https://localhost:8080/"
        },
        "id": "GUrlrQTtHYQg",
        "outputId": "ce34d0bf-ccd5-48a2-bebe-b99a89bd320e"
      },
      "execution_count": null,
      "outputs": [
        {
          "output_type": "stream",
          "name": "stdout",
          "text": [
            "{'C': 1.0, 'break_ties': False, 'cache_size': 200, 'class_weight': None, 'coef0': 0.0, 'decision_function_shape': 'ovr', 'degree': 3, 'gamma': 'scale', 'kernel': 'rbf', 'max_iter': -1, 'probability': False, 'random_state': None, 'shrinking': True, 'tol': 0.001, 'verbose': False}\n",
            "rbf\n"
          ]
        }
      ]
    },
    {
      "cell_type": "markdown",
      "source": [],
      "metadata": {
        "id": "rXuhSOsL_beH"
      }
    }
  ]
}